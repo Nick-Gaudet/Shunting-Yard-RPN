{
 "cells": [
  {
   "cell_type": "code",
   "execution_count": 87,
   "id": "frozen-boost",
   "metadata": {},
   "outputs": [
    {
     "name": "stdout",
     "output_type": "stream",
     "text": [
      "Enter operation: 8*5+(2+3)^7+6\n",
      "['8', '*', '5', '+', '(', '2', '+', '3', ')', '^', '7', '+', '6']\n"
     ]
    }
   ],
   "source": [
    "import numpy as np\n",
    "from collections import deque\n",
    "ops = {'+' : operator.add, '-' : operator.sub, '*' : operator.mul, '/' : operator.truediv,'^' : operator.pow} \n",
    "\n",
    "# 3+4*2/(1-5)^2^3\n",
    "#(3^3^3)+420*69+5\n",
    "# basic order of operations\n",
    "user = input(\"Enter operation: \")\n",
    "# print(tokens)\n",
    "\n",
    "# popleft -> Queues (FIFO)\n",
    "# pop -> Stack (LIFO)\n",
    "\n",
    "# parse user input into tokens, handles multi digit numbers not just 0-9\n",
    "def tokenize(user):\n",
    "    out = []\n",
    "    n = 0\n",
    "    num = \"\"\n",
    "    while n < len(user):\n",
    "        if user[n].isnumeric() and n+1 < len(user):\n",
    "            num += user[n]\n",
    "            n += 1\n",
    "        else:\n",
    "            out.append(num)\n",
    "            num = \"\"\n",
    "            out.append(user[n])\n",
    "            n += 1\n",
    "\n",
    "    return out\n",
    "tokens = tokenize(user)\n",
    "for t in tokens:\n",
    "    if t == \"\": \n",
    "        tokens.remove(t) \n",
    "print(tokens)\n",
    "\n",
    "        \n",
    "# give operators association -> https://en.wikipedia.org/wiki/Operator_associativity            \n",
    "def associate(x): # true  = left , false = right\n",
    "    if x == \"+\" or x == \"-\":\n",
    "        return True\n",
    "    if x == \"*\" or x == \"x\" or x == \"/\" or x == \"%\":\n",
    "        return True\n",
    "    else:\n",
    "        return False\n",
    "    \n",
    "# follows directly from psudeo at https://en.wikipedia.org/wiki/Shunting-yard_algorithm#:~:text=In%20computer%20science%2C%20the%20shunting,abstract%20syntax%20tree%20(AST).\n",
    "def ShuntingYard(tokens): \n",
    "    outputQ = deque([])\n",
    "    opStack = deque([])\n",
    "    for token in tokens:\n",
    "        if token.isnumeric(): # token is a number\n",
    "            outputQ.append(token)\n",
    "        elif isinstance(token,str) and (token != \"(\" and token != \")\") : # token is operator\n",
    "            while ((len(opStack)) > 0 \n",
    "                   and ((bedmas(opStack[len(opStack) - 1]) > bedmas(token))\n",
    "                         or (bedmas(opStack[len(opStack) - 1]) == bedmas(token)and (associate(token) is True) )) \n",
    "                        and (opStack[len(opStack) - 1] != \"(\")): \n",
    "\n",
    "                outputQ.append(opStack.pop())\n",
    "            opStack.append(token)\n",
    "        elif token == \"(\":\n",
    "            opStack.append(token)\n",
    "        elif token == \")\":\n",
    "\n",
    "            while (opStack[len(opStack)-1] != \"(\"):\n",
    "                outputQ.append(opStack.pop())\n",
    "            if opStack[len(opStack)-1] == \"(\":\n",
    "                opStack.pop()\n",
    "\n",
    "    \n",
    "    while len(opStack) > 0:\n",
    "        outputQ.append(opStack.pop())\n",
    "\n",
    "    return outputQ\n",
    "        \n"
   ]
  },
  {
   "cell_type": "code",
   "execution_count": 88,
   "id": "cellular-present",
   "metadata": {},
   "outputs": [],
   "source": [
    "# returns precedence of operator\n",
    "def bedmas(token):\n",
    "    if token == \"(\" or token == \")\":\n",
    "        return 4\n",
    "    if token == \"^\":\n",
    "        return 3\n",
    "    if token == \"/\" or token == \"%\" or token == \"x\" or token == \"*\":\n",
    "        return 2\n",
    "    if token == \"+\" or token == \"-\":\n",
    "        return 1\n",
    "   "
   ]
  },
  {
   "cell_type": "code",
   "execution_count": 89,
   "id": "sweet-stereo",
   "metadata": {},
   "outputs": [],
   "source": [
    "import operator\n",
    "\n",
    "# calcualtes the expression based on the Reverse Polish Notation created through Shunting Yard\n",
    "# https://en.wikipedia.org/wiki/Reverse_Polish_notation\n",
    "def RPN(expression):\n",
    "    out = []\n",
    "    tokens = expression.split()\n",
    "\n",
    "    for token in tokens:\n",
    "        if token.isnumeric():\n",
    "            out.append(float(token))\n",
    "        elif token in ops:\n",
    "            if(len(out) < 2):\n",
    "                raise ValueError('Must have 2 parameters to operate')\n",
    "            a = out.pop()\n",
    "            b = out.pop()\n",
    "            op = ops[token]\n",
    "            print(\"%d %s %d\" % (b,token,a))\n",
    "            out.append(op(b,a))\n",
    "        else:\n",
    "            raise ValueError(\"This aint it? %s\" % token)               \n",
    "    return out\n",
    "        \n",
    "    "
   ]
  },
  {
   "cell_type": "code",
   "execution_count": 90,
   "id": "acknowledged-logan",
   "metadata": {},
   "outputs": [
    {
     "name": "stdout",
     "output_type": "stream",
     "text": [
      "8 5 * 2 3 + 7 ^ + 6 +\n",
      "8 * 5\n",
      "2 + 3\n",
      "5 ^ 7\n",
      "40 + 78125\n",
      "78165 + 6\n",
      "[78171.0]\n"
     ]
    }
   ],
   "source": [
    "expression = \" \"\n",
    "e = expression.join(ShuntingYard(tokens))\n",
    "print(e)\n",
    "print(RPN(e))\n"
   ]
  },
  {
   "cell_type": "code",
   "execution_count": null,
   "id": "southwest-noise",
   "metadata": {},
   "outputs": [],
   "source": []
  },
  {
   "cell_type": "code",
   "execution_count": null,
   "id": "modern-cooking",
   "metadata": {},
   "outputs": [],
   "source": []
  }
 ],
 "metadata": {
  "kernelspec": {
   "display_name": "Python 3",
   "language": "python",
   "name": "python3"
  },
  "language_info": {
   "codemirror_mode": {
    "name": "ipython",
    "version": 3
   },
   "file_extension": ".py",
   "mimetype": "text/x-python",
   "name": "python",
   "nbconvert_exporter": "python",
   "pygments_lexer": "ipython3",
   "version": "3.8.5"
  }
 },
 "nbformat": 4,
 "nbformat_minor": 5
}
